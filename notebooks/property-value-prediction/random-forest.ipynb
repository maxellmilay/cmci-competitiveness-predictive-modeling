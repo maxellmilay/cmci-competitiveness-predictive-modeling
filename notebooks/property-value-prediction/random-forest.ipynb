{
 "cells": [
  {
   "cell_type": "markdown",
   "metadata": {},
   "source": [
    "# Random Forest Approach in Property Value Prediction using CMCI"
   ]
  }
 ],
 "metadata": {
  "language_info": {
   "name": "python"
  }
 },
 "nbformat": 4,
 "nbformat_minor": 2
}
